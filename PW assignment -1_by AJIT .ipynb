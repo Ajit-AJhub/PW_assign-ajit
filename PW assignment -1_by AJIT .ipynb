{
 "cells": [
  {
   "cell_type": "code",
   "execution_count": null,
   "id": "4bd680e3-a36f-46f4-97f0-d3b3dfae3a70",
   "metadata": {},
   "outputs": [],
   "source": [
    "Q1. Create one variable containing following type of data:\n",
    "(i) string\n",
    "(ii) list\n",
    "(iii) float\n",
    "(iv) tuple\n",
    "\n",
    "Answer 1-\n",
    "\n",
    "str = \"Hello, World!\"\n",
    "\n",
    "list = [1, 2, 3, 4, 5]\n",
    "\n",
    "float = 3.14\n",
    "\n",
    "tuple = (6, 7, 8, 9, 10)"
   ]
  },
  {
   "cell_type": "code",
   "execution_count": 1,
   "id": "4d6624ee-267c-4577-be95-646c73bcfdb2",
   "metadata": {},
   "outputs": [],
   "source": [
    "s = \"Hello, World!\""
   ]
  },
  {
   "cell_type": "code",
   "execution_count": 2,
   "id": "550c1d36-56c9-46d8-8399-a960c50579f0",
   "metadata": {},
   "outputs": [
    {
     "data": {
      "text/plain": [
       "str"
      ]
     },
     "execution_count": 2,
     "metadata": {},
     "output_type": "execute_result"
    }
   ],
   "source": [
    "type(s)"
   ]
  },
  {
   "cell_type": "code",
   "execution_count": 3,
   "id": "5ad8343c-2d4c-4139-bfa2-129ca0ecfd50",
   "metadata": {},
   "outputs": [],
   "source": [
    "l = [1, 2, 3, 4, 5]"
   ]
  },
  {
   "cell_type": "code",
   "execution_count": 4,
   "id": "d0170aa8-8a17-4157-8140-aee69e9b425c",
   "metadata": {},
   "outputs": [
    {
     "data": {
      "text/plain": [
       "list"
      ]
     },
     "execution_count": 4,
     "metadata": {},
     "output_type": "execute_result"
    }
   ],
   "source": [
    "type(l)"
   ]
  },
  {
   "cell_type": "code",
   "execution_count": 7,
   "id": "da40b03f-af05-4ee3-bcab-1811c837999d",
   "metadata": {},
   "outputs": [],
   "source": [
    "f = 3.14"
   ]
  },
  {
   "cell_type": "code",
   "execution_count": 8,
   "id": "6689c1ad-c178-4d1d-89e0-9f2ccbf1f968",
   "metadata": {},
   "outputs": [
    {
     "data": {
      "text/plain": [
       "float"
      ]
     },
     "execution_count": 8,
     "metadata": {},
     "output_type": "execute_result"
    }
   ],
   "source": [
    "type(f)"
   ]
  },
  {
   "cell_type": "code",
   "execution_count": 9,
   "id": "72868d4f-c2af-46bf-9d93-b6f3339ac910",
   "metadata": {},
   "outputs": [],
   "source": [
    "t = (6, 7, 8, 9, 10)"
   ]
  },
  {
   "cell_type": "code",
   "execution_count": 10,
   "id": "488b7201-f670-4f78-91a8-2170b501e919",
   "metadata": {},
   "outputs": [
    {
     "data": {
      "text/plain": [
       "tuple"
      ]
     },
     "execution_count": 10,
     "metadata": {},
     "output_type": "execute_result"
    }
   ],
   "source": [
    "type(t)"
   ]
  },
  {
   "cell_type": "code",
   "execution_count": null,
   "id": "a238dca9-cc0f-4854-a982-48db5780d5d5",
   "metadata": {},
   "outputs": [],
   "source": [
    "Q2. Given are some following variables containing data:\n",
    "(i) var1 = ‘ ‘\n",
    "(ii) var2 = ‘[ DS , ML , Python]’\n",
    "(iii) var3 = [ ‘DS’ , ’ML’ , ‘Python’ ]\n",
    "(iv) var4 = 1.\n",
    "What will be the data type of the above given variable.\n",
    "\n",
    "Answer 2- so the data types of given variables are-\n",
    "\n",
    "var1: str\n",
    "var2: str\n",
    "var3: list\n",
    "var4: float"
   ]
  },
  {
   "cell_type": "code",
   "execution_count": 17,
   "id": "4bf42bb6-9459-4721-b261-54be4714e9a5",
   "metadata": {},
   "outputs": [],
   "source": [
    "var1 = \" \""
   ]
  },
  {
   "cell_type": "code",
   "execution_count": 18,
   "id": "c4d57197-986c-421c-9475-009dd44b6f12",
   "metadata": {},
   "outputs": [
    {
     "data": {
      "text/plain": [
       "str"
      ]
     },
     "execution_count": 18,
     "metadata": {},
     "output_type": "execute_result"
    }
   ],
   "source": [
    "type(var1)"
   ]
  },
  {
   "cell_type": "code",
   "execution_count": 20,
   "id": "4e66e411-6c52-4196-8651-83fcfd510ec4",
   "metadata": {},
   "outputs": [],
   "source": [
    "var2 = '[ DS , ML , Python]'"
   ]
  },
  {
   "cell_type": "code",
   "execution_count": 21,
   "id": "8b59d6a4-477e-44ce-82fd-74f65c15832e",
   "metadata": {},
   "outputs": [
    {
     "data": {
      "text/plain": [
       "str"
      ]
     },
     "execution_count": 21,
     "metadata": {},
     "output_type": "execute_result"
    }
   ],
   "source": [
    "type(var2)"
   ]
  },
  {
   "cell_type": "code",
   "execution_count": 22,
   "id": "c7ab624a-2071-4e01-b052-20adeee374cf",
   "metadata": {},
   "outputs": [],
   "source": [
    "var3 = [ 'DS' , 'ML' , 'Python' ]"
   ]
  },
  {
   "cell_type": "code",
   "execution_count": 23,
   "id": "f5bc9d15-0827-431e-a026-685ddcfb0a25",
   "metadata": {},
   "outputs": [
    {
     "data": {
      "text/plain": [
       "list"
      ]
     },
     "execution_count": 23,
     "metadata": {},
     "output_type": "execute_result"
    }
   ],
   "source": [
    "type(var3)"
   ]
  },
  {
   "cell_type": "code",
   "execution_count": 25,
   "id": "7e42b0b2-2702-4cea-bf86-de2919a7081a",
   "metadata": {},
   "outputs": [],
   "source": [
    "var4 = 1."
   ]
  },
  {
   "cell_type": "code",
   "execution_count": 26,
   "id": "1809d52c-0173-492f-ba0b-4105f5e170f8",
   "metadata": {},
   "outputs": [
    {
     "data": {
      "text/plain": [
       "float"
      ]
     },
     "execution_count": 26,
     "metadata": {},
     "output_type": "execute_result"
    }
   ],
   "source": [
    "type(var4)"
   ]
  },
  {
   "cell_type": "code",
   "execution_count": null,
   "id": "4fb8d79c-51bf-4826-b817-fc15a1e29209",
   "metadata": {},
   "outputs": [],
   "source": [
    "Q3. Explain the use of the following operators using an example:\n",
    "(i) /\n",
    "(ii) %\n",
    "(iii) //\n",
    "(iv) **\n",
    "\n",
    "Answer 3-\n"
   ]
  },
  {
   "cell_type": "code",
   "execution_count": null,
   "id": "f9ed9a7d-3948-4b07-8d1b-0861e095446a",
   "metadata": {},
   "outputs": [],
   "source": [
    "(i) The `/` operator is the division operator in Python. \n",
    "    It divides the left operand by the right operand and returns the quotient. \n",
    "    For example, `10 / 2` would return `5.0`."
   ]
  },
  {
   "cell_type": "code",
   "execution_count": 12,
   "id": "48839905-9687-494a-b96b-d4b474ec2fc3",
   "metadata": {},
   "outputs": [
    {
     "data": {
      "text/plain": [
       "2.0"
      ]
     },
     "execution_count": 12,
     "metadata": {},
     "output_type": "execute_result"
    }
   ],
   "source": [
    "10/5"
   ]
  },
  {
   "cell_type": "code",
   "execution_count": null,
   "id": "299df2e4-5adf-40d1-aed2-164bb0d66598",
   "metadata": {},
   "outputs": [],
   "source": [
    "(ii) The `%` operator is the modulus operator in Python. \n",
    "     It divides the left operand by the right operand and returns the remainder. \n",
    "     For example, `10 % 3` would return `1`."
   ]
  },
  {
   "cell_type": "code",
   "execution_count": null,
   "id": "d2c37d95-37c3-49e5-a3f8-db77f3cc39e0",
   "metadata": {},
   "outputs": [
    {
     "data": {
      "text/plain": [
       "1"
      ]
     },
     "execution_count": 13,
     "metadata": {},
     "output_type": "execute_result"
    }
   ],
   "source": [
    "10%3"
   ]
  },
  {
   "cell_type": "code",
   "execution_count": null,
   "id": "522a1fc9-c6d3-461d-bc7e-2b197a4ec755",
   "metadata": {},
   "outputs": [],
   "source": [
    "(iii) The `//` operator is the floor division operator in Python.\n",
    "      It divides the left operand by the right operand and returns the quotient rounded down to the nearest integer.\n",
    "       For example, `10 // 3` would return `3`."
   ]
  },
  {
   "cell_type": "code",
   "execution_count": 14,
   "id": "b2f47fa0-9167-4866-9eae-711d107d203c",
   "metadata": {},
   "outputs": [
    {
     "data": {
      "text/plain": [
       "3"
      ]
     },
     "execution_count": 14,
     "metadata": {},
     "output_type": "execute_result"
    }
   ],
   "source": [
    "10//3"
   ]
  },
  {
   "cell_type": "code",
   "execution_count": null,
   "id": "03530cca-c40c-4e6b-a689-59b90d51cd4c",
   "metadata": {},
   "outputs": [],
   "source": [
    "iv) The `**` operator is the exponentiation operator in Python. \n",
    "     It raises the left operand to the power of the right operand. \n",
    "      For example, `2 ** 3` would return `8`."
   ]
  },
  {
   "cell_type": "code",
   "execution_count": 15,
   "id": "353ba975-59a7-4ad7-9ab5-c715bc981e48",
   "metadata": {},
   "outputs": [
    {
     "data": {
      "text/plain": [
       "8"
      ]
     },
     "execution_count": 15,
     "metadata": {},
     "output_type": "execute_result"
    }
   ],
   "source": [
    "2**3"
   ]
  },
  {
   "cell_type": "code",
   "execution_count": null,
   "id": "39e5747b-1fb6-47a1-8f17-1e917954ea7a",
   "metadata": {},
   "outputs": [],
   "source": [
    "Q4. Create a list of length 10 of your choice containing multiple types of data. Using for loop print the\n",
    "element and its data type.\n",
    "\n",
    "Answer -\n",
    "my_list = ['hello', 123, 3.14, True, None, [1, 2, 3], {'name': 'AJIT', 'age': 30}, ('apple', 'banana'), {'apple', 'orange'}, b'binary']"
   ]
  },
  {
   "cell_type": "code",
   "execution_count": 4,
   "id": "e7069050-13d3-4eaf-986f-91122d3cd5ea",
   "metadata": {},
   "outputs": [],
   "source": [
    "my_list = ['hello', 123, 3.14, True, None, [1, 2, 3], {'name': 'AJIT', 'age': 24}, ('apple', 'banana'), {'apple', 'orange'}, b'binary']"
   ]
  },
  {
   "cell_type": "code",
   "execution_count": 5,
   "id": "17ad8f9f-e9e2-48e6-8ca2-ad94ea65b877",
   "metadata": {},
   "outputs": [
    {
     "name": "stdout",
     "output_type": "stream",
     "text": [
      "hello is of type <class 'str'>\n",
      "123 is of type <class 'int'>\n",
      "3.14 is of type <class 'float'>\n",
      "True is of type <class 'bool'>\n",
      "None is of type <class 'NoneType'>\n",
      "[1, 2, 3] is of type <class 'list'>\n",
      "{'name': 'AJIT', 'age': 24} is of type <class 'dict'>\n",
      "('apple', 'banana') is of type <class 'tuple'>\n",
      "{'apple', 'orange'} is of type <class 'set'>\n",
      "b'binary' is of type <class 'bytes'>\n"
     ]
    }
   ],
   "source": [
    "for element in my_list:\n",
    "    print(f'{element} is of type {type(element)}')\n"
   ]
  },
  {
   "cell_type": "code",
   "execution_count": null,
   "id": "cbd7f41f-12c9-4f10-90d2-b59f98c0135a",
   "metadata": {},
   "outputs": [],
   "source": [
    "Q5. Using a while loop, verify if the number A is purely divisible by number B and if so then how many\n",
    "times it can be divisible."
   ]
  },
  {
   "cell_type": "code",
   "execution_count": 11,
   "id": "4fee93e8-7170-4d33-8d9f-50d8bb8bdb24",
   "metadata": {},
   "outputs": [
    {
     "name": "stdin",
     "output_type": "stream",
     "text": [
      "Enter the number A:  100\n",
      "Enter the number B:  20\n"
     ]
    },
    {
     "name": "stdout",
     "output_type": "stream",
     "text": [
      "5.0 can be divided by 20 1 times\n"
     ]
    }
   ],
   "source": [
    "A = int(input(\"Enter the number A: \"))\n",
    "B = int(input(\"Enter the number B: \"))\n",
    "\n",
    "count = 0  \n",
    "while A % B == 0: \n",
    "    count += 1  \n",
    "    A = A / B  \n",
    "if count > 0:\n",
    "    print(f\"{A} can be divided by {B} {count} times\")\n",
    "else:\n",
    "    print(f\"{A} is not divisible by {B}\")"
   ]
  },
  {
   "cell_type": "code",
   "execution_count": null,
   "id": "e0cbc17c-bd2d-4aa0-834d-06b58deb0b5d",
   "metadata": {},
   "outputs": [],
   "source": [
    "Q6. Create a list containing 25 int type data. Using for loop and if-else condition print if the element is\n",
    "divisible by 3 or not.\n",
    "Answer 6-\n",
    "list = [2, 7, 9, 12, 16, 18, 21, 22, 27, 30, 33, 36, 39, 40, 42, 45, 48, 51, 54, 57, 60, 63, 66, 69, 72]\n"
   ]
  },
  {
   "cell_type": "code",
   "execution_count": 15,
   "id": "d31eff00-8365-4a0c-9a64-fcb15e58b089",
   "metadata": {},
   "outputs": [],
   "source": [
    "list = [2, 7, 9, 12, 16, 18, 21, 22, 27, 30, 33, 36, 39, 40, 42, 45, 48, 51, 54, 57, 60, 63, 66, 69, 72]\n"
   ]
  },
  {
   "cell_type": "code",
   "execution_count": 16,
   "id": "5ab23667-5b3a-4f66-b3a9-7f8aad0d76c7",
   "metadata": {},
   "outputs": [
    {
     "name": "stdout",
     "output_type": "stream",
     "text": [
      "2 is not divisible by 3\n",
      "7 is not divisible by 3\n",
      "9 is divisible by 3\n",
      "12 is divisible by 3\n",
      "16 is not divisible by 3\n",
      "18 is divisible by 3\n",
      "21 is divisible by 3\n",
      "22 is not divisible by 3\n",
      "27 is divisible by 3\n",
      "30 is divisible by 3\n",
      "33 is divisible by 3\n",
      "36 is divisible by 3\n",
      "39 is divisible by 3\n",
      "40 is not divisible by 3\n",
      "42 is divisible by 3\n",
      "45 is divisible by 3\n",
      "48 is divisible by 3\n",
      "51 is divisible by 3\n",
      "54 is divisible by 3\n",
      "57 is divisible by 3\n",
      "60 is divisible by 3\n",
      "63 is divisible by 3\n",
      "66 is divisible by 3\n",
      "69 is divisible by 3\n",
      "72 is divisible by 3\n"
     ]
    }
   ],
   "source": [
    "for num in list:\n",
    "    \n",
    "    if num % 3 == 0:\n",
    "        print(num, \"is divisible by 3\")\n",
    "    else:\n",
    "        print(num, \"is not divisible by 3\")"
   ]
  },
  {
   "cell_type": "code",
   "execution_count": null,
   "id": "1285afeb-969a-48e0-82de-6517c23136ab",
   "metadata": {},
   "outputs": [],
   "source": [
    "Q7. What do you understand about mutable and immutable data types? Give examples for both showing\n",
    "this property.\n",
    "Answer 2-\n",
    "\n",
    "In programming, mutable and immutable data types refer to the ability or inability to modify an object after its creation. \n",
    "Mutable data types can be modified, while immutable data types cannot be modified once they are created.\n",
    "\n",
    "Mutable data types include lists, dictionaries, and sets in Python. For example, consider the following code\n",
    "list = [1, 2, 3]\n",
    "list.append(4)\n",
    "print(list) \n"
   ]
  },
  {
   "cell_type": "code",
   "execution_count": 20,
   "id": "01163d5f-6b75-49aa-a7dd-9c2733659aef",
   "metadata": {},
   "outputs": [
    {
     "name": "stdout",
     "output_type": "stream",
     "text": [
      "[1, 2, 3, 4]\n"
     ]
    }
   ],
   "source": [
    "list = [1, 2, 3]\n",
    "list.append(4)\n",
    "print(list) \n"
   ]
  },
  {
   "cell_type": "code",
   "execution_count": null,
   "id": "cffe7d30-ddb9-47e2-8cee-074fb34a7c77",
   "metadata": {},
   "outputs": [],
   "source": [
    "On the other hand, immutable data types include strings, tuples, and numbers in Python. \n",
    "For example:\n",
    "    A = \"Hello\"\n",
    "A += \" World\"\n",
    "print(A)"
   ]
  },
  {
   "cell_type": "code",
   "execution_count": 19,
   "id": "898c6761-5ac2-4196-ad79-0d0ec274e71a",
   "metadata": {},
   "outputs": [
    {
     "name": "stdout",
     "output_type": "stream",
     "text": [
      "Hello World\n"
     ]
    }
   ],
   "source": [
    "A = \"Hello\"\n",
    "A += \" World\"\n",
    "print(A) \n"
   ]
  },
  {
   "cell_type": "code",
   "execution_count": null,
   "id": "317ba996-c150-49cf-ab76-7ae63dc30d7d",
   "metadata": {},
   "outputs": [],
   "source": []
  },
  {
   "cell_type": "code",
   "execution_count": null,
   "id": "3955e595-437b-40b8-994a-8c4a75860f90",
   "metadata": {},
   "outputs": [],
   "source": []
  },
  {
   "cell_type": "code",
   "execution_count": null,
   "id": "fe95fba3-23f9-4df2-a908-af2daaad1d68",
   "metadata": {},
   "outputs": [],
   "source": []
  }
 ],
 "metadata": {
  "kernelspec": {
   "display_name": "Python 3 (ipykernel)",
   "language": "python",
   "name": "python3"
  },
  "language_info": {
   "codemirror_mode": {
    "name": "ipython",
    "version": 3
   },
   "file_extension": ".py",
   "mimetype": "text/x-python",
   "name": "python",
   "nbconvert_exporter": "python",
   "pygments_lexer": "ipython3",
   "version": "3.10.8"
  }
 },
 "nbformat": 4,
 "nbformat_minor": 5
}
